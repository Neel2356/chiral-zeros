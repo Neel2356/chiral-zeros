{
 "cells": [
  {
   "cell_type": "code",
   "id": "initial_id",
   "metadata": {
    "collapsed": true,
    "ExecuteTime": {
     "end_time": "2025-10-09T13:47:25.015051Z",
     "start_time": "2025-10-09T13:47:25.011642Z"
    }
   },
   "source": [
    "import numpy as np\n",
    "from biopandas.pdb import PandasPdb\n",
    "import pandas as pd\n",
    "import itertools\n",
    "import matplotlib.pyplot as plt\n",
    "import scipy\n",
    "from scipy.spatial.transform import Rotation as R\n",
    "from scipy.spatial.distance import directed_hausdorff, cdist\n",
    "from scipy.optimize import minimize\n",
    "from itertools import product\n",
    "from joblib import Parallel, delayed\n",
    "import multiprocessing\n",
    "import os"
   ],
   "outputs": [],
   "execution_count": 124
  },
  {
   "metadata": {
    "ExecuteTime": {
     "end_time": "2025-10-08T19:47:31.835031Z",
     "start_time": "2025-10-08T19:47:31.829700Z"
    }
   },
   "cell_type": "code",
   "source": [
    "def min_haus(degs, L, D):\n",
    "\n",
    "    x,y,z,a,b,c = degs\n",
    "\n",
    "    r = R.from_euler('xyz', [a,b,c])\n",
    "    D = r.apply(D)\n",
    "\n",
    "    D = D + [x,y,z]\n",
    "    haus, _, _ = directed_hausdorff(L, D)\n",
    "\n",
    "    return haus\n",
    "\n",
    "def haus_opt(x0, L, D):\n",
    "\n",
    "    res = minimize(min_haus, x0, method='SLSQP', args=(L,D), options={'ftol': 1e-3, 'disp': False})\n",
    "\n",
    "    return res['fun'], res['x']\n",
    "\n",
    "def hcm(L):\n",
    "    if (len(L) >= 4):\n",
    "        D = -L\n",
    "        perm = product(np.linspace(-np.pi, np.pi, 12), repeat=3) #from -pi to pi rads, 24 even groups in between them\n",
    "        inits_abc = np.array([i for i in perm])\n",
    "        # iter_xyz = product(np.linspace(-np.max(cdist(c1_xyz, c1_xyz)) /50, np.max(cdist(c1_xyz, c1_xyz)) /50, 3), repeat=3)\n",
    "        # inits_xyz = np.array([i for i in iter_xyz])\n",
    "        inits_xyz = np.zeros([1,3])\n",
    "        inits = np.append(np.tile(inits_xyz, [len(inits_abc), 1]), np.repeat(inits_abc, len(inits_xyz), axis=0), axis=1)\n",
    "\n",
    "        num_cores = multiprocessing.cpu_count()\n",
    "        output = Parallel(n_jobs=num_cores)(delayed(haus_opt)(i, L, D) for i in inits)\n",
    "        values = [_[0] for _ in output]\n",
    "        return(min(values) / np.max(cdist(L,L)))\n",
    "    else:\n",
    "        return 0"
   ],
   "id": "edb97ff5bfe03c4b",
   "outputs": [],
   "execution_count": 91
  },
  {
   "metadata": {
    "ExecuteTime": {
     "end_time": "2025-10-08T18:06:54.285469Z",
     "start_time": "2025-10-08T18:06:54.283440Z"
    }
   },
   "cell_type": "code",
   "source": [
    "def get_radius(A, p, r):\n",
    "    dists = cdist(A,p.reshape(1,3)).reshape(-1)\n",
    "    within_cutoff = (dists <= r)\n",
    "    selection = A[within_cutoff]\n",
    "    return selection"
   ],
   "id": "e1045a0274e6cf2c",
   "outputs": [],
   "execution_count": 3
  },
  {
   "metadata": {
    "ExecuteTime": {
     "end_time": "2025-10-09T14:20:54.815652Z",
     "start_time": "2025-10-09T14:20:54.810898Z"
    }
   },
   "cell_type": "code",
   "source": [
    "def osipov_whole(coord):\n",
    "    n = 2\n",
    "    m = 1\n",
    "\n",
    "    N = len(coord)\n",
    "\n",
    "    if N >= 4:\n",
    "        P = np.array(list(itertools.permutations(np.arange(N), 4))) # Get permutations\n",
    "\n",
    "        coords_P = coord[P]\n",
    "        r = coords_P - np.roll(coords_P, -1, axis=1)\n",
    "        r[:, 3] = -r[:, 3]\n",
    "        r_mag = np.linalg.norm(r, axis=-1)\n",
    "        cross_vecs = np.cross(r[:, 0], r[:, 2])\n",
    "        G_p_up = np.einsum('ij,ij->i', cross_vecs, r[:, 3]) * np.einsum('ij,ij->i', r[:, 0], r[:, 1]) * np.einsum('ij,ij->i', r[:, 1], r[:, 2])\n",
    "        G_p_down = np.power(np.prod(r_mag[:,0:3], axis=-1), n) * np.power(r_mag[:, 3], m)\n",
    "\n",
    "        print(np.sum(G_p_down==0))\n",
    "\n",
    "        G_p = (1 / 3) * np.sum(G_p_up / G_p_down)\n",
    "\n",
    "        G_os = (24)/(N ** 4) *  G_p\n",
    "\n",
    "    else:\n",
    "        G_os = 0\n",
    "\n",
    "    return G_os"
   ],
   "id": "97eb6b93ea21996e",
   "outputs": [],
   "execution_count": 214
  },
  {
   "metadata": {
    "ExecuteTime": {
     "end_time": "2025-10-08T18:06:54.651742Z",
     "start_time": "2025-10-08T18:06:54.648935Z"
    }
   },
   "cell_type": "code",
   "source": [
    "MW = {'C': 12.01,\n",
    "      'O': 16.00,\n",
    "      'N': 14.01,\n",
    "      'P': 30.97, }"
   ],
   "id": "cbd9a4d93669abd9",
   "outputs": [],
   "execution_count": 5
  },
  {
   "metadata": {
    "ExecuteTime": {
     "end_time": "2025-10-08T19:49:40.911953Z",
     "start_time": "2025-10-08T19:49:40.903142Z"
    }
   },
   "cell_type": "code",
   "source": [
    "b_pdb_name = '1BNA.pdb'\n",
    "b_coord = PandasPdb()\n",
    "b_coord.read_pdb(b_pdb_name)\n",
    "b_atoms = b_coord.df['ATOM']"
   ],
   "id": "ce5bd873940dd0e0",
   "outputs": [],
   "execution_count": 105
  },
  {
   "metadata": {
    "ExecuteTime": {
     "end_time": "2025-10-08T19:50:58.168659Z",
     "start_time": "2025-10-08T19:49:40.950656Z"
    }
   },
   "cell_type": "code",
   "source": [
    "BDNA_base_hcm = []\n",
    "BDNA_base_opd = []\n",
    "BDNA_base_pairs_hcm = []\n",
    "BDNA_base_pairs_opd = []\n",
    "for ii in np.arange(1, 13):\n",
    "    b_bp1 = b_atoms.query('residue_number == %d' %ii)[['x_coord', 'y_coord', 'z_coord']].to_numpy()\n",
    "    b_bp2 = b_atoms.query('residue_number == %d' %(25-ii))[['x_coord', 'y_coord', 'z_coord']].to_numpy()\n",
    "\n",
    "    BDNA_base_hcm.append(hcm(b_bp1))\n",
    "    BDNA_base_hcm.append(hcm(b_bp2))\n",
    "    BDNA_base_opd.append(osipov_whole(b_bp1))\n",
    "    BDNA_base_opd.append(osipov_whole(b_bp2))\n",
    "    b_bp_paired = np.concat([b_bp1, b_bp2], axis=0)\n",
    "    BDNA_base_pairs_hcm.append(hcm(b_bp_paired))\n",
    "    BDNA_base_pairs_opd.append(osipov_whole(b_bp_paired))"
   ],
   "id": "d232e395a8dc3c6e",
   "outputs": [],
   "execution_count": 106
  },
  {
   "metadata": {
    "ExecuteTime": {
     "end_time": "2025-10-08T19:48:18.031059Z",
     "start_time": "2025-10-08T19:48:17.829644Z"
    }
   },
   "cell_type": "code",
   "source": [
    "b_sug_coords = []\n",
    "b_phos_coords = []\n",
    "b_acid_coords = []\n",
    "b_ntide_coords = []\n",
    "\n",
    "for ii in b_atoms.residue_number.unique():\n",
    "    b_sug = b_atoms.query(\"residue_number == %d & atom_name.str.contains(\\\"'\\\", na=False) & atom_name != \\\"O5'\\\" & atom_name != \\\"O3'\\\"\" %ii)\n",
    "    b_phos = b_atoms.query(\"residue_number == %d & (atom_name.str.contains(\\\"P\\\", na=False) | atom_name == \\\"O5'\\\" | atom_name == \\\"O3'\\\")\" %ii)\n",
    "    b_acid = b_atoms[~(b_atoms.isin(b_phos) | b_atoms.isin(b_sug))].query(\"residue_number == %d\" %ii)\n",
    "    b_ntide = b_atoms.query(\"residue_number == %d\" %ii)\n",
    "    b_ntide_coords.append(np.average(b_ntide[['x_coord', 'y_coord', 'z_coord']].to_numpy(), axis=0, weights=[MW[_] for _ in b_ntide['element_symbol']]))\n",
    "    b_sug_coords.append(np.average(b_sug[['x_coord', 'y_coord', 'z_coord']].to_numpy(), axis=0, weights=[MW[_] for _ in b_sug['element_symbol']]))\n",
    "    b_phos_coords.append(np.average(b_phos[['x_coord', 'y_coord', 'z_coord']].to_numpy(), axis=0, weights=[MW[_] for _ in b_phos['element_symbol']]))\n",
    "    b_acid_coords.append(np.average(b_acid[['x_coord', 'y_coord', 'z_coord']].to_numpy(), axis=0, weights=[MW[_] for _ in b_acid['element_symbol']]))\n",
    "\n",
    "b_sug_coords = np.asarray(b_sug_coords)\n",
    "b_phos_coords = np.asarray(b_phos_coords)\n",
    "b_acid_coords = np.asarray(b_acid_coords)\n",
    "b_ntide_coords = np.asarray(b_ntide_coords)\n",
    "b_atoms_coords = b_atoms[['x_coord', 'y_coord', 'z_coord']].to_numpy()"
   ],
   "id": "799f3a407d1d2ecd",
   "outputs": [],
   "execution_count": 94
  },
  {
   "metadata": {
    "ExecuteTime": {
     "end_time": "2025-10-08T19:48:18.107636Z",
     "start_time": "2025-10-08T19:48:18.098669Z"
    }
   },
   "cell_type": "code",
   "source": [
    "a_pdb_name = '1D28.pdb'\n",
    "a_coord = PandasPdb()\n",
    "a_coord.read_pdb(a_pdb_name)\n",
    "a_atoms = a_coord.df['ATOM']"
   ],
   "id": "c025b9a7ce69c2f8",
   "outputs": [],
   "execution_count": 96
  },
  {
   "metadata": {
    "ExecuteTime": {
     "end_time": "2025-10-08T19:52:13.300190Z",
     "start_time": "2025-10-08T19:50:58.232745Z"
    }
   },
   "cell_type": "code",
   "source": [
    "ADNA_base_hcm = []\n",
    "ADNA_base_opd = []\n",
    "ADNA_base_pairs_hcm = []\n",
    "ADNA_base_pairs_opd = []\n",
    "for ii in np.arange(1, 13):\n",
    "    a_bp1 = a_atoms.query('residue_number == %d' %ii)[['x_coord', 'y_coord', 'z_coord']].to_numpy()\n",
    "    a_bp2 = a_atoms.query('residue_number == %d' %(25-ii))[['x_coord', 'y_coord', 'z_coord']].to_numpy()\n",
    "\n",
    "    ADNA_base_hcm.append(hcm(a_bp1))\n",
    "    ADNA_base_hcm.append(hcm(a_bp2))\n",
    "    ADNA_base_opd.append(osipov_whole(a_bp1))\n",
    "    ADNA_base_opd.append(osipov_whole(a_bp2))\n",
    "    a_bp_paired = np.concat([a_bp1, a_bp2], axis=0)\n",
    "    ADNA_base_pairs_hcm.append(hcm(a_bp_paired))\n",
    "    ADNA_base_pairs_opd.append(osipov_whole(a_bp_paired))"
   ],
   "id": "e62517e3729c8996",
   "outputs": [],
   "execution_count": 107
  },
  {
   "metadata": {
    "ExecuteTime": {
     "end_time": "2025-10-08T19:49:01.340960Z",
     "start_time": "2025-10-08T19:49:01.131102Z"
    }
   },
   "cell_type": "code",
   "source": [
    "a_sug_coords = []\n",
    "a_phos_coords = []\n",
    "a_acid_coords = []\n",
    "a_ntide_coords = []\n",
    "\n",
    "for ii in a_atoms.residue_number.unique():\n",
    "    a_sug = a_atoms.query(\"residue_number == %d & atom_name.str.contains(\\\"'\\\", na=False) & atom_name != \\\"O5'\\\" & atom_name != \\\"O3'\\\"\" %ii)\n",
    "    a_phos = a_atoms.query(\"residue_number == %d & (atom_name.str.contains(\\\"P\\\", na=False) | atom_name == \\\"O5'\\\" | atom_name == \\\"O3'\\\")\" %ii)\n",
    "    a_acid = a_atoms[~(a_atoms.isin(a_phos) | a_atoms.isin(a_sug))].query(\"residue_number == %d\" %ii)\n",
    "    a_ntide = a_atoms.query(\"residue_number == %d\" %ii)\n",
    "    a_ntide_coords.append(np.average(a_ntide[['x_coord', 'y_coord', 'z_coord']].to_numpy(), axis=0, weights=[MW[_] for _ in a_ntide['element_symbol']]))\n",
    "    a_sug_coords.append(np.average(a_sug[['x_coord', 'y_coord', 'z_coord']].to_numpy(), axis=0, weights=[MW[_] for _ in a_sug['element_symbol']]))\n",
    "    a_phos_coords.append(np.average(a_phos[['x_coord', 'y_coord', 'z_coord']].to_numpy(), axis=0, weights=[MW[_] for _ in a_phos['element_symbol']]))\n",
    "    a_acid_coords.append(np.average(a_acid[['x_coord', 'y_coord', 'z_coord']].to_numpy(), axis=0, weights=[MW[_] for _ in a_acid['element_symbol']]))\n",
    "\n",
    "a_sug_coords = np.asarray(a_sug_coords)\n",
    "a_phos_coords = np.asarray(a_phos_coords)\n",
    "a_acid_coords = np.asarray(a_acid_coords)\n",
    "a_ntide_coords = np.asarray(a_ntide_coords)\n",
    "a_atoms_coords = a_atoms[['x_coord', 'y_coord', 'z_coord']].to_numpy()"
   ],
   "id": "5514cf7b1c6ee881",
   "outputs": [],
   "execution_count": 98
  },
  {
   "metadata": {
    "ExecuteTime": {
     "end_time": "2025-10-08T19:49:01.418470Z",
     "start_time": "2025-10-08T19:49:01.407011Z"
    }
   },
   "cell_type": "code",
   "source": [
    "z_pdb_name = '4OCB.pdb'\n",
    "z_coord = PandasPdb()\n",
    "z_coord.read_pdb(z_pdb_name)\n",
    "z_atoms = z_coord.df['ATOM']\n",
    "z_atoms = z_atoms.query('alt_loc != \"B\"')"
   ],
   "id": "70b946a99b2a98d2",
   "outputs": [],
   "execution_count": 100
  },
  {
   "metadata": {
    "ExecuteTime": {
     "end_time": "2025-10-08T19:53:22.384288Z",
     "start_time": "2025-10-08T19:52:13.362668Z"
    }
   },
   "cell_type": "code",
   "source": [
    "\n",
    "ZDNA_base_hcm = []\n",
    "ZDNA_base_opd = []\n",
    "ZDNA_base_pairs_hcm = []\n",
    "ZDNA_base_pairs_opd = []\n",
    "for ii in np.arange(1, 13):\n",
    "    z_bp1 = z_atoms.query('residue_number == %d & segment_id == \"A\"' %ii)[['x_coord', 'y_coord', 'z_coord']].to_numpy()\n",
    "    z_bp2 = z_atoms.query('residue_number == %d & segment_id == \"A_2\"' %(13-ii))[['x_coord', 'y_coord', 'z_coord']].to_numpy()\n",
    "\n",
    "    ZDNA_base_hcm.append(hcm(z_bp1))\n",
    "    ZDNA_base_hcm.append(hcm(z_bp2))\n",
    "    ZDNA_base_opd.append(osipov_whole(z_bp1))\n",
    "    ZDNA_base_opd.append(osipov_whole(z_bp2))\n",
    "    z_bp_paired = np.concat([z_bp1, z_bp2], axis=0)\n",
    "    ZDNA_base_pairs_hcm.append(hcm(z_bp_paired))\n",
    "    ZDNA_base_pairs_opd.append(osipov_whole(z_bp_paired))"
   ],
   "id": "c3154814f70b251e",
   "outputs": [],
   "execution_count": 108
  },
  {
   "metadata": {
    "ExecuteTime": {
     "end_time": "2025-10-08T19:49:40.729190Z",
     "start_time": "2025-10-08T19:49:40.596661Z"
    }
   },
   "cell_type": "code",
   "source": [
    "z_unique_res = z_atoms[['residue_number', 'segment_id']].drop_duplicates(ignore_index=True)\n",
    "\n",
    "z_sug_coords = []\n",
    "z_phos_coords = []\n",
    "z_acid_coords = []\n",
    "z_ntide_coords = []\n",
    "\n",
    "for ii in z_unique_res.index:\n",
    "    # print(ii)\n",
    "    z_ntide = z_atoms.query('residue_number == %d & segment_id == \"%s\"' %(z_unique_res.loc[ii, 'residue_number'], z_unique_res.loc[ii, 'segment_id'])).reset_index()\n",
    "    z_sug = z_ntide.query(\"atom_name.str.contains(\\\"'\\\", na=False) & atom_name != \\\"O5'\\\" & atom_name != \\\"O3'\\\"\")\n",
    "    z_phos = z_ntide.query(\"(atom_name.str.contains(\\\"P\\\", na=False) | atom_name == \\\"O5'\\\" | atom_name == \\\"O3'\\\")\")\n",
    "    z_acid = z_ntide[~(z_ntide.isin(z_phos) | z_ntide.isin(z_sug)).any(axis=1)]\n",
    "\n",
    "    z_ntide_coords.append(np.average(z_ntide[['x_coord', 'y_coord', 'z_coord']].to_numpy(), axis=0, weights=[MW[_] for _ in z_ntide['element_symbol']]))\n",
    "    z_sug_coords.append(np.average(z_sug[['x_coord', 'y_coord', 'z_coord']].to_numpy(), axis=0, weights=[MW[_] for _ in z_sug['element_symbol']]))\n",
    "    z_phos_coords.append(np.average(z_phos[['x_coord', 'y_coord', 'z_coord']].to_numpy(), axis=0, weights=[MW[_] for _ in z_phos['element_symbol']]))\n",
    "    z_acid_coords.append(np.average(z_acid[['x_coord', 'y_coord', 'z_coord']].to_numpy(), axis=0, weights=[MW[_] for _ in z_acid['element_symbol']]))\n",
    "\n",
    "z_sug_coords = np.asarray(z_sug_coords)\n",
    "z_phos_coords = np.asarray(z_phos_coords)\n",
    "z_acid_coords = np.asarray(z_acid_coords)\n",
    "z_ntide_coords = np.asarray(z_ntide_coords)\n",
    "z_atoms_coords = z_atoms[['x_coord', 'y_coord', 'z_coord']].to_numpy()"
   ],
   "id": "b501cf546a276d94",
   "outputs": [],
   "execution_count": 102
  },
  {
   "metadata": {},
   "cell_type": "code",
   "outputs": [],
   "execution_count": null,
   "source": [
    "bp_hcms = pd.DataFrame(np.array([ADNA_base_pairs_hcm, BDNA_base_pairs_hcm, ZDNA_base_pairs_hcm]).T, columns=['A-DNA hcm', 'B-DNA hcm', 'Z-DNA hcm'])\n",
    "bp_hcms.to_csv('bp_hcms.csv', index=False)\n",
    "bp_opds = pd.DataFrame(np.array([ADNA_base_pairs_opd, BDNA_base_pairs_opd, ZDNA_base_pairs_opd]).T, columns=['A-DNA opd', 'B-DNA opd', 'Z-DNA opd'])\n",
    "bp_opds.to_csv('bp_opds.csv', index=False)"
   ],
   "id": "d05edcee5f767eba"
  },
  {
   "metadata": {
    "ExecuteTime": {
     "end_time": "2025-10-08T18:08:41.268231Z",
     "start_time": "2025-10-08T18:08:40.060607Z"
    }
   },
   "cell_type": "code",
   "source": [
    "ntide_opd = np.asarray([osipov_whole(a_ntide_coords), osipov_whole(b_ntide_coords), osipov_whole(z_ntide_coords)])\n",
    "sug_opd = np.asarray([osipov_whole(a_sug_coords), osipov_whole(b_sug_coords), osipov_whole(z_sug_coords)])\n",
    "phos_opd = np.asarray([osipov_whole(a_phos_coords), osipov_whole(b_phos_coords), osipov_whole(z_phos_coords)])\n",
    "acid_opd = np.asarray([osipov_whole(a_acid_coords), osipov_whole(b_acid_coords), osipov_whole(z_acid_coords)])\n",
    "\n",
    "ntide_hcm = np.asarray([hcm(a_ntide_coords), hcm(b_ntide_coords), hcm(z_ntide_coords)])\n",
    "sug_hcm = np.asarray([hcm(a_sug_coords), hcm(b_sug_coords), hcm(z_sug_coords)])\n",
    "phos_hcm = np.asarray([hcm(a_phos_coords), hcm(b_phos_coords), hcm(z_phos_coords)])\n",
    "acid_hcm = np.asarray([hcm(a_acid_coords), hcm(b_acid_coords), hcm(z_acid_coords)])"
   ],
   "id": "d0e4cd3d7f85168a",
   "outputs": [],
   "execution_count": 18
  },
  {
   "metadata": {
    "ExecuteTime": {
     "end_time": "2025-10-08T18:15:28.352844Z",
     "start_time": "2025-10-08T18:15:28.348463Z"
    }
   },
   "cell_type": "code",
   "source": [
    "whole_hcms = pd.DataFrame(np.stack([ntide_hcm, sug_hcm, phos_hcm, acid_hcm]), columns=['A-DNA hcm', 'B-DNA hcm', 'Z-DNA hcm'], index=['ntide', 'sugar', 'phos', 'nacid'])\n",
    "whole_hcms.to_csv('whole_hcms.csv')\n",
    "\n",
    "whole_opds = pd.DataFrame(np.stack([ntide_opd, sug_opd, phos_opd, acid_opd]), columns=['A-DNA opd', 'B-DNA opd', 'Z-DNA opd'], index=['ntide', 'sugar', 'phos', 'nacid'])\n",
    "whole_opds.to_csv('whole_opds.csv')"
   ],
   "id": "dcb53e599749e156",
   "outputs": [],
   "execution_count": 37
  },
  {
   "metadata": {
    "ExecuteTime": {
     "end_time": "2025-10-09T13:58:51.560970Z",
     "start_time": "2025-10-09T13:58:51.558566Z"
    }
   },
   "cell_type": "code",
   "source": [
    "pdb_files = [_ for _ in os.listdir() if _[-4:] == '.pdb']\n",
    "pdb_files.sort()"
   ],
   "id": "6b8c8e159e63fe80",
   "outputs": [],
   "execution_count": 138
  },
  {
   "metadata": {
    "ExecuteTime": {
     "end_time": "2025-10-09T14:39:58.595323Z",
     "start_time": "2025-10-09T14:39:58.142987Z"
    }
   },
   "cell_type": "code",
   "source": [
    "all_ntide_coords = [[] for _ in pdb_files]\n",
    "for jj in range(len(pdb_files)):\n",
    "# jj = 0\n",
    "    pdb_name = pdb_files[jj]\n",
    "    coord = PandasPdb()\n",
    "    coord.read_pdb(pdb_name)\n",
    "    atoms = coord.df['ATOM']\n",
    "\n",
    "    unique_res = atoms[['residue_number', 'segment_id']].drop_duplicates(ignore_index=True)\n",
    "    ntide_coords = []\n",
    "    for ii in unique_res.index:\n",
    "        ntide = atoms.query('residue_number == %d & segment_id == \"%s\"' %(unique_res.loc[ii, 'residue_number'], unique_res.loc[ii, 'segment_id'])).reset_index()\n",
    "        all_ntide_coords[jj].append(np.average(ntide[['x_coord', 'y_coord', 'z_coord']].to_numpy(), axis=0, weights=[MW[_] for _ in ntide['element_symbol']]))\n",
    "\n",
    "    all_ntide_coords[jj] = np.array(all_ntide_coords[jj])"
   ],
   "id": "94f83ef58dafc65f",
   "outputs": [],
   "execution_count": 240
  },
  {
   "metadata": {
    "ExecuteTime": {
     "end_time": "2025-10-09T14:43:25.610804Z",
     "start_time": "2025-10-09T14:43:03.859897Z"
    }
   },
   "cell_type": "code",
   "source": [
    "chain_hcms = np.asarray([hcm(_) for _ in all_ntide_coords])\n",
    "chain_opds = np.asarray([osipov_whole(_) for _ in all_ntide_coords])"
   ],
   "id": "c643abc3bcc3c1b5",
   "outputs": [],
   "execution_count": 247
  },
  {
   "metadata": {
    "ExecuteTime": {
     "end_time": "2025-10-09T15:09:31.512757Z",
     "start_time": "2025-10-09T15:09:31.510392Z"
    }
   },
   "cell_type": "code",
   "source": [
    "a_chain_hcms = [chain_hcms[_] for _ in [0,2,4,6]]\n",
    "a_chain_opds = [chain_opds[_] for _ in [0,2,4,6]]\n",
    "\n",
    "b_chain_hcms = [chain_hcms[_] for _ in [1,3,5,7,8]]\n",
    "b_chain_opds = [chain_opds[_] for _ in [1,3,5,7,8]]\n",
    "\n",
    "z_chain_hcms = [chain_hcms[_] for _ in [9,10,11,12]]\n",
    "z_chain_opds = [chain_opds[_] for _ in [9,10,11,12]]"
   ],
   "id": "2b77efa315a7feef",
   "outputs": [],
   "execution_count": 276
  },
  {
   "metadata": {
    "ExecuteTime": {
     "end_time": "2025-10-09T15:02:53.528350Z",
     "start_time": "2025-10-09T15:02:53.387549Z"
    }
   },
   "cell_type": "code",
   "source": [
    "z_unique_res = z_atoms[['residue_number', 'segment_id']].drop_duplicates(ignore_index=True)\n",
    "\n",
    "z_sug_coords = []\n",
    "z_phos_coords = []\n",
    "z_acid_coords = []\n",
    "z_ntide_coords = []\n",
    "\n",
    "for ii in z_unique_res.index:\n",
    "    # print(ii)\n",
    "    z_ntide = z_atoms.query('residue_number == %d & segment_id == \"%s\"' %(z_unique_res.loc[ii, 'residue_number'], z_unique_res.loc[ii, 'segment_id'])).reset_index()\n",
    "    z_sug = z_ntide.query(\"atom_name.str.contains(\\\"'\\\", na=False) & atom_name != \\\"O5'\\\" & atom_name != \\\"O3'\\\"\")\n",
    "    z_phos = z_ntide.query(\"(atom_name.str.contains(\\\"P\\\", na=False) | atom_name == \\\"O5'\\\" | atom_name == \\\"O3'\\\")\")\n",
    "    z_acid = z_ntide[~(z_ntide.isin(z_phos) | z_ntide.isin(z_sug)).any(axis=1)]\n",
    "\n",
    "    z_ntide_coords.append(np.average(z_ntide[['x_coord', 'y_coord', 'z_coord']].to_numpy(), axis=0, weights=[MW[_] for _ in z_ntide['element_symbol']]))\n",
    "    z_sug_coords.append(np.average(z_sug[['x_coord', 'y_coord', 'z_coord']].to_numpy(), axis=0, weights=[MW[_] for _ in z_sug['element_symbol']]))\n",
    "    z_phos_coords.append(np.average(z_phos[['x_coord', 'y_coord', 'z_coord']].to_numpy(), axis=0, weights=[MW[_] for _ in z_phos['element_symbol']]))\n",
    "    z_acid_coords.append(np.average(z_acid[['x_coord', 'y_coord', 'z_coord']].to_numpy(), axis=0, weights=[MW[_] for _ in z_acid['element_symbol']]))\n",
    "\n",
    "z_sug_coords = np.asarray(z_sug_coords)\n",
    "z_phos_coords = np.asarray(z_phos_coords)\n",
    "z_acid_coords = np.asarray(z_acid_coords)\n",
    "z_ntide_coords = np.asarray(z_ntide_coords)\n",
    "z_atoms_coords = z_atoms[['x_coord', 'y_coord', 'z_coord']].to_numpy()"
   ],
   "id": "aa6e78766f96527d",
   "outputs": [],
   "execution_count": 271
  },
  {
   "metadata": {
    "ExecuteTime": {
     "end_time": "2025-10-09T15:18:32.555816Z",
     "start_time": "2025-10-09T15:18:31.543166Z"
    }
   },
   "cell_type": "code",
   "source": [
    "fsize = 14\n",
    "fig = plt.figure(figsize=(18,5))\n",
    "ax1 = fig.add_subplot(1,3,1)\n",
    "\n",
    "ax1.scatter(a_chain_hcms, a_chain_opds, alpha=0.8)\n",
    "ax1.scatter(b_chain_hcms, b_chain_opds, alpha=0.8)\n",
    "ax1.scatter(z_chain_hcms, z_chain_opds, alpha=0.8)\n",
    "\n",
    "ax1.set_xlim(0, 0.3)\n",
    "ax1.set_ylim(-0.08, 0.08)\n",
    "ax1.legend(['A-DNA', 'B-DNA', 'Z-DNA'], loc='upper left')\n",
    "ax1.set_xlabel('HCM', fontsize=fsize)\n",
    "ax1.set_ylabel('OPD', fontsize=fsize)\n",
    "ax1.tick_params(axis='both', which='major', labelsize=12)\n",
    "ax1.tick_params(axis='both', which='minor', labelsize=12)\n",
    "\n",
    "ax2 = fig.add_subplot(1,3,2)\n",
    "\n",
    "ax2.scatter(ADNA_base_pairs_hcm, ADNA_base_pairs_opd, alpha=0.8)\n",
    "ax2.scatter(BDNA_base_pairs_hcm, BDNA_base_pairs_opd, alpha=0.8)\n",
    "ax2.scatter(ZDNA_base_pairs_hcm, ZDNA_base_pairs_opd, alpha=0.8)\n",
    "\n",
    "ax2.set_xlim(0, 0.2)\n",
    "ax2.set_ylim(-0.06, 0.06)\n",
    "ax2.legend(['A-DNA', 'B-DNA', 'Z-DNA'], loc='upper left')\n",
    "ax2.set_xlabel('HCM', fontsize=fsize)\n",
    "ax2.set_ylabel('OPD', fontsize=fsize)\n",
    "ax2.tick_params(axis='both', which='major', labelsize=12)\n",
    "ax2.tick_params(axis='both', which='minor', labelsize=12)\n",
    "\n",
    "ax3 = fig.add_subplot(1,3,3)\n",
    "\n",
    "ax3.scatter(ADNA_base_hcm, ADNA_base_opd, alpha=0.8)\n",
    "ax3.scatter(BDNA_base_hcm, BDNA_base_opd, alpha=0.8)\n",
    "ax3.scatter(ZDNA_base_hcm, ZDNA_base_opd, alpha=0.8)\n",
    "\n",
    "ax3.set_xlim(0, 0.3)\n",
    "ax3.set_ylim(-0.05, 0.05)\n",
    "ax3.legend(['A-DNA', 'B-DNA', 'Z-DNA'], loc='upper left')\n",
    "ax3.set_xlabel('HCM', fontsize=fsize)\n",
    "ax3.set_ylabel('OPD', fontsize=fsize)\n",
    "ax3.tick_params(axis='both', which='major', labelsize=12)\n",
    "ax3.tick_params(axis='both', which='minor', labelsize=12)\n",
    "\n",
    "plt.tight_layout()\n",
    "plt.savefig('dna.png', dpi=600)\n",
    "plt.show()"
   ],
   "id": "e241392c0657011",
   "outputs": [
    {
     "data": {
      "text/plain": [
       "<Figure size 1800x500 with 3 Axes>"
      ],
      "image/png": "[encoded data removed]"
     },
     "metadata": {},
     "output_type": "display_data",
     "jetTransient": {
      "display_id": null
     }
    }
   ],
   "execution_count": 279
  },
  {
   "metadata": {
    "ExecuteTime": {
     "end_time": "2025-10-09T15:07:43.339402Z",
     "start_time": "2025-10-09T15:07:43.334024Z"
    }
   },
   "cell_type": "code",
   "source": [
    "a_corr_chains = scipy.stats.pearsonr(a_chain_hcms, a_chain_opds)\n",
    "b_corr_chains = scipy.stats.pearsonr(b_chain_hcms, b_chain_opds)\n",
    "z_corr_chains = scipy.stats.pearsonr(z_chain_hcms, z_chain_opds)\n",
    "a_corr_pairs = scipy.stats.pearsonr(ADNA_base_pairs_hcm, ADNA_base_pairs_opd)\n",
    "b_corr_pairs = scipy.stats.pearsonr(BDNA_base_pairs_hcm, BDNA_base_pairs_opd)\n",
    "z_corr_pairs = scipy.stats.pearsonr(ZDNA_base_pairs_hcm, ZDNA_base_pairs_opd)\n",
    "a_corr_single = scipy.stats.pearsonr(ADNA_base_hcm, ADNA_base_opd)\n",
    "b_corr_single = scipy.stats.pearsonr(BDNA_base_hcm, BDNA_base_opd)\n",
    "z_corr_single = scipy.stats.pearsonr(ZDNA_base_hcm, ZDNA_base_opd)"
   ],
   "id": "1304b75e2f3b548b",
   "outputs": [],
   "execution_count": 273
  },
  {
   "metadata": {
    "ExecuteTime": {
     "end_time": "2025-10-09T15:07:43.558998Z",
     "start_time": "2025-10-09T15:07:43.554996Z"
    }
   },
   "cell_type": "code",
   "source": [
    "print(a_corr_chains)\n",
    "print(b_corr_chains)\n",
    "print(z_corr_chains)\n",
    "print(a_corr_pairs)\n",
    "print(b_corr_pairs)\n",
    "print(z_corr_pairs)\n",
    "print(a_corr_single)\n",
    "print(b_corr_single)\n",
    "print(z_corr_single)"
   ],
   "id": "3556f38d17f3d84",
   "outputs": [
    {
     "name": "stdout",
     "output_type": "stream",
     "text": [
      "PearsonRResult(statistic=np.float64(-0.1874164994162139), pvalue=np.float64(0.812583500583786))\n",
      "PearsonRResult(statistic=np.float64(-0.9810169515505546), pvalue=np.float64(0.0031307059808643426))\n",
      "PearsonRResult(statistic=np.float64(0.9809901695328059), pvalue=np.float64(0.019009830467194178))\n",
      "PearsonRResult(statistic=np.float64(-0.19766896366013964), pvalue=np.float64(0.53801710299834))\n",
      "PearsonRResult(statistic=np.float64(-0.40594844633081306), pvalue=np.float64(0.1904116191745878))\n",
      "PearsonRResult(statistic=np.float64(-0.12715120974871513), pvalue=np.float64(0.693736717224368))\n",
      "PearsonRResult(statistic=np.float64(-0.031352988431802495), pvalue=np.float64(0.8843687373638058))\n",
      "PearsonRResult(statistic=np.float64(0.037894107101816364), pvalue=np.float64(0.8604551137022993))\n",
      "PearsonRResult(statistic=np.float64(-0.29695280751772724), pvalue=np.float64(0.1587979116666235))\n"
     ]
    }
   ],
   "execution_count": 274
  }
 ],
 "metadata": {
  "kernelspec": {
   "display_name": "Python 3",
   "language": "python",
   "name": "python3"
  },
  "language_info": {
   "codemirror_mode": {
    "name": "ipython",
    "version": 2
   },
   "file_extension": ".py",
   "mimetype": "text/x-python",
   "name": "python",
   "nbconvert_exporter": "python",
   "pygments_lexer": "ipython2",
   "version": "2.7.6"
  }
 },
 "nbformat": 4,
 "nbformat_minor": 5
}
